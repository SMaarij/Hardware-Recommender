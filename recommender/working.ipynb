{
 "cells": [
  {
   "cell_type": "code",
   "execution_count": 14,
   "id": "fe037ea1",
   "metadata": {},
   "outputs": [],
   "source": [
    "import sys\n",
    "\n",
    "sys.path.append(\"E:\\Study Material\\5th semester\\AI\\CEP\\recommender\")"
   ]
  },
  {
   "cell_type": "code",
   "execution_count": 15,
   "id": "21ef94f3",
   "metadata": {},
   "outputs": [],
   "source": [
    "import driver_simple"
   ]
  },
  {
   "cell_type": "code",
   "execution_count": 16,
   "id": "05d16f04",
   "metadata": {},
   "outputs": [
    {
     "name": "stdout",
     "output_type": "stream",
     "text": [
      "Welcome To Laptop/Desktop Selector\n",
      "______________________________________________________________________________\n",
      "______________________________________________________________________________\n",
      "______________________________________________________________________________\n",
      "______________________________________________________________________________\n",
      "______________________________________________________________________________\n",
      "______________________________________________________________________________\n",
      "You should buy: Lenovo ThinkPad Gaming Laptop,Intel Core i9,32GB DDR5,512GB SSD,NVIDIA GeForce RTX 3080 Ti,Windows 11,15.6 inches QHD 240Hz 2ms NVIDIA G-SYNC Display | Dark Side of the Moon\n",
      "\n",
      "done\n"
     ]
    }
   ],
   "source": [
    "driver_simple.bc_test_questions() "
   ]
  },
  {
   "cell_type": "code",
   "execution_count": null,
   "id": "0eadf463",
   "metadata": {},
   "outputs": [],
   "source": []
  }
 ],
 "metadata": {
  "kernelspec": {
   "display_name": "Python 3 (ipykernel)",
   "language": "python",
   "name": "python3"
  },
  "language_info": {
   "codemirror_mode": {
    "name": "ipython",
    "version": 3
   },
   "file_extension": ".py",
   "mimetype": "text/x-python",
   "name": "python",
   "nbconvert_exporter": "python",
   "pygments_lexer": "ipython3",
   "version": "3.11.3"
  }
 },
 "nbformat": 4,
 "nbformat_minor": 5
}
