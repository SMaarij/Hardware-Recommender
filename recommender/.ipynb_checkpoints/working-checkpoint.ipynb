{
 "cells": [
  {
   "cell_type": "code",
   "execution_count": null,
   "id": "fe037ea1",
   "metadata": {},
   "outputs": [],
   "source": [
    "import sys\n",
    "\n",
    "sys.path.append(\"E:\\Study Material\\5th semester\\AI\\CEP\\recommender\")"
   ]
  },
  {
   "cell_type": "code",
   "execution_count": null,
   "id": "21ef94f3",
   "metadata": {},
   "outputs": [],
   "source": [
    "import driver_simple"
   ]
  },
  {
   "cell_type": "code",
   "execution_count": null,
   "id": "05d16f04",
   "metadata": {},
   "outputs": [],
   "source": [
    "driver_simple.bc_test_questions() "
   ]
  },
  {
   "cell_type": "code",
   "execution_count": null,
   "id": "0eadf463",
   "metadata": {},
   "outputs": [],
   "source": []
  }
 ],
 "metadata": {
  "kernelspec": {
   "display_name": "Python 3 (ipykernel)",
   "language": "python",
   "name": "python3"
  },
  "language_info": {
   "codemirror_mode": {
    "name": "ipython",
    "version": 3
   },
   "file_extension": ".py",
   "mimetype": "text/x-python",
   "name": "python",
   "nbconvert_exporter": "python",
   "pygments_lexer": "ipython3",
   "version": "3.10.7"
  }
 },
 "nbformat": 4,
 "nbformat_minor": 5
}
